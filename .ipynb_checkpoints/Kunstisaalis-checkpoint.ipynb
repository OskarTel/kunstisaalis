{
 "cells": [
  {
   "cell_type": "code",
   "execution_count": 1,
   "metadata": {},
   "outputs": [],
   "source": [
    "import numpy as np \n",
    "import pandas as pd\n",
    "import matplotlib.pyplot as plt\n",
    "import skimage.io"
   ]
  },
  {
   "cell_type": "markdown",
   "metadata": {},
   "source": [
    "MAIN MISSION: See if it is possible to accuratly predict in which genre is a painting in, if we compare the pictures in certain ways (E.g. colors, contrasts, light)"
   ]
  },
  {
   "cell_type": "code",
   "execution_count": 2,
   "metadata": {},
   "outputs": [
    {
     "data": {
      "text/html": [
       "<div>\n",
       "<style scoped>\n",
       "    .dataframe tbody tr th:only-of-type {\n",
       "        vertical-align: middle;\n",
       "    }\n",
       "\n",
       "    .dataframe tbody tr th {\n",
       "        vertical-align: top;\n",
       "    }\n",
       "\n",
       "    .dataframe thead th {\n",
       "        text-align: right;\n",
       "    }\n",
       "</style>\n",
       "<table border=\"1\" class=\"dataframe\">\n",
       "  <thead>\n",
       "    <tr style=\"text-align: right;\">\n",
       "      <th></th>\n",
       "      <th>name</th>\n",
       "      <th>genre</th>\n",
       "    </tr>\n",
       "    <tr>\n",
       "      <th>id</th>\n",
       "      <th></th>\n",
       "      <th></th>\n",
       "    </tr>\n",
       "  </thead>\n",
       "  <tbody>\n",
       "    <tr>\n",
       "      <td>8</td>\n",
       "      <td>Vincent van Gogh</td>\n",
       "      <td>Post-Impressionism</td>\n",
       "    </tr>\n",
       "    <tr>\n",
       "      <td>28</td>\n",
       "      <td>Henri Matisse</td>\n",
       "      <td>Impressionism,Post-Impressionism</td>\n",
       "    </tr>\n",
       "    <tr>\n",
       "      <td>33</td>\n",
       "      <td>Henri de Toulouse-Lautrec</td>\n",
       "      <td>Post-Impressionism</td>\n",
       "    </tr>\n",
       "    <tr>\n",
       "      <td>35</td>\n",
       "      <td>Camille Pissarro</td>\n",
       "      <td>Impressionism,Post-Impressionism</td>\n",
       "    </tr>\n",
       "    <tr>\n",
       "      <td>38</td>\n",
       "      <td>Paul Cezanne</td>\n",
       "      <td>Post-Impressionism</td>\n",
       "    </tr>\n",
       "    <tr>\n",
       "      <td>41</td>\n",
       "      <td>Georges Seurat</td>\n",
       "      <td>Post-Impressionism</td>\n",
       "    </tr>\n",
       "    <tr>\n",
       "      <td>46</td>\n",
       "      <td>Paul Gauguin</td>\n",
       "      <td>Symbolism,Post-Impressionism</td>\n",
       "    </tr>\n",
       "  </tbody>\n",
       "</table>\n",
       "</div>"
      ],
      "text/plain": [
       "                         name                             genre\n",
       "id                                                             \n",
       "8            Vincent van Gogh                Post-Impressionism\n",
       "28              Henri Matisse  Impressionism,Post-Impressionism\n",
       "33  Henri de Toulouse-Lautrec                Post-Impressionism\n",
       "35           Camille Pissarro  Impressionism,Post-Impressionism\n",
       "38               Paul Cezanne                Post-Impressionism\n",
       "41             Georges Seurat                Post-Impressionism\n",
       "46               Paul Gauguin      Symbolism,Post-Impressionism"
      ]
     },
     "execution_count": 2,
     "metadata": {},
     "output_type": "execute_result"
    }
   ],
   "source": [
    "artists=pd.read_csv(\"artists.csv\",index_col=[\"id\"])\n",
    "postimp=artists[((artists['genre'].str.contains(\"Post-Impressionism\")==True))]\n",
    "#We'll drop all the unnecessary columns\n",
    "postimp.drop(columns=[\"years\",\"nationality\",\"bio\",\"wikipedia\",\"paintings\"])"
   ]
  },
  {
   "cell_type": "code",
   "execution_count": 3,
   "metadata": {},
   "outputs": [
    {
     "data": {
      "text/plain": [
       "['Gogh',\n",
       " 'Matisse',\n",
       " 'Toulouse-Lautrec',\n",
       " 'Pissarro',\n",
       " 'Cezanne',\n",
       " 'Seurat',\n",
       " 'Gauguin']"
      ]
     },
     "execution_count": 3,
     "metadata": {},
     "output_type": "execute_result"
    }
   ],
   "source": [
    "#reading in all the relevant paintings from the resized \n",
    "#we're using the last name\n",
    "authors=[]\n",
    "for author in postimp.name:\n",
    "    authors.append(author.split(\" \")[-1])\n",
    "authors"
   ]
  },
  {
   "cell_type": "code",
   "execution_count": 4,
   "metadata": {
    "scrolled": true
   },
   "outputs": [],
   "source": [
    "import random\n",
    "import os\n",
    "\n",
    "\n",
    "postimp_paintings=pd.DataFrame(columns=[\"Postimp\",\"Pixeldata\",\"Changed_data\"])\n",
    "for painting in os.listdir(\"paintings\"):\n",
    "    if painting.split(\"_\")[-2] in authors:\n",
    "        new_row = pd.Series(data={\"Postimp\": 1, \"Pixeldata\": skimage.io.imread(fname=\"paintings/\" + painting)})\n",
    "        postimp_paintings=postimp_paintings.append(new_row,ignore_index=True)   \n",
    "    else:\n",
    "        new_row = pd.Series(data={\"Postimp\": 0, \"Pixeldata\": skimage.io.imread(fname=\"paintings/\" + painting)})\n",
    "        postimp_paintings=postimp_paintings.append(new_row,ignore_index=True)"
   ]
  },
  {
   "cell_type": "code",
   "execution_count": 5,
   "metadata": {},
   "outputs": [
    {
     "name": "stdout",
     "output_type": "stream",
     "text": [
      "(8355, 3)\n"
     ]
    }
   ],
   "source": [
    "print(postimp_paintings.shape)"
   ]
  },
  {
   "cell_type": "code",
   "execution_count": null,
   "metadata": {},
   "outputs": [],
   "source": [
    "changed_data = pd.DataFrame(columns=[\"Changed_data\"])\n",
    "for i in range(len(postimp_paintings[\"Pixeldata\"])):\n",
    "    chosen_rows = []\n",
    "    image=np.array(postimp_paintings[\"Pixeldata\"][i]).copy()\n",
    "    while len(chosen_rows)<len(image)/1.1:\n",
    "        row_no= random.randint(0,len(image)-1)\n",
    "        if row_no not in chosen_rows:\n",
    "            chosen_rows.append(row_no)\n",
    "    chosen_rows.sort(reverse=True)\n",
    "    for i in chosen_rows:\n",
    "        image = np.delete(image,i,0)\n",
    "    changed_data = changed_data.append({\"Changed_data\": image,},ignore_index=True)\n",
    "postimp_paintings.Changed_data = changed_data[\"Changed_data\"]\n",
    "postimp_paintings.drop(columns=[\"Pixeldata\"],inplace=True)"
   ]
  },
  {
   "cell_type": "code",
   "execution_count": null,
   "metadata": {},
   "outputs": [],
   "source": [
    "data = postimp_paintings.copy()\n",
    "data = data.rename(columns={\"Postimp\": \"Post-Impressionism\",\"Changed_data\": \"Pixels\"})\n",
    "skimage.io.imshow(data.Pixels[0])\n",
    "plt.show()\n",
    "skimage.io.imshow(data.Pixels[2])\n",
    "plt.show()"
   ]
  },
  {
   "cell_type": "markdown",
   "metadata": {},
   "source": [
    "https://www.johndcook.com/blog/2009/08/24/algorithms-convert-color-grayscale/ \\\n",
    "How to turn pictures to grayscale"
   ]
  },
  {
   "cell_type": "code",
   "execution_count": null,
   "metadata": {
    "scrolled": true
   },
   "outputs": [],
   "source": [
    "from math import sqrt\n",
    "def rgb2gray(image):\n",
    "    for i in range(len(image)):\n",
    "        for j in range(len(image[i])):\n",
    "            try:\n",
    "                image[i][j]=(image[i][j][0]+ image[i][j][1]+image[i][j][2])/3\n",
    "            except:\n",
    "                return image\n",
    "    return image\n"
   ]
  },
  {
   "cell_type": "code",
   "execution_count": null,
   "metadata": {},
   "outputs": [],
   "source": [
    "def brightness(image):\n",
    "    bright_average = 0\n",
    "    bright_values = []\n",
    "    for i in range(len(image)):\n",
    "        for j in range(len(image[i])):\n",
    "            bright_sum = 0\n",
    "            #if picture is black and white, then it'll go in there \n",
    "            try:\n",
    "                bright_sum += 0.299 * image[i][j][0] + 0.587 * image[i][j][1] + 0.114 * image[i][j][2]\n",
    "            except:\n",
    "                bright_sum += image[i][j]\n",
    "        bright_values.append(bright_sum)\n",
    "    for value in bright_values:\n",
    "        bright_average += value\n",
    "    bright_average=bright_average/len(bright_values)\n",
    "    if bright_average >= 80:\n",
    "        return 'light'\n",
    "    elif bright_average > 40:\n",
    "        return 'medium'\n",
    "    else:\n",
    "        return 'dark'\n",
    "    \n",
    "def contrast(gray_image):\n",
    "    high_cont=0\n",
    "    med_cont=0\n",
    "    low_cont=0\n",
    "    for i in range(len(gray_image)):\n",
    "        high=0\n",
    "        med=0\n",
    "        low=0\n",
    "        for j in range(len(gray_image[i]-6)):\n",
    "            try:\n",
    "                contrast=abs(int(gray_image[i][j])-int(gray_image[i][j+5]))\n",
    "            except:\n",
    "                contrast=60\n",
    "            try:\n",
    "                if contrast >= 80:\n",
    "                    high += 1\n",
    "                elif contrast >= 50:\n",
    "                    med += 1\n",
    "                else:\n",
    "                    low += 1\n",
    "            except:\n",
    "                med +=1\n",
    "        if high >= med & high >=low:\n",
    "            high_cont+=1\n",
    "        elif med >= high & med >=low:\n",
    "            med_cont+=1\n",
    "        else:\n",
    "            low_cont+=1\n",
    "    if high_cont >= med_cont & high_cont >=low_cont:\n",
    "        return \"high\"\n",
    "    elif med_cont >= high_cont & med_cont >=low_cont:\n",
    "        return \"medium\"\n",
    "    else:\n",
    "        return \"low\""
   ]
  },
  {
   "cell_type": "markdown",
   "metadata": {},
   "source": [
    "Why are we using certain functions?\\\n",
    "    https://mymodernmet.com/post-impressionism/\n",
    "    https://drawpaintacademy.com/post-impressionism/\n",
    "    \n",
    "    Main ideas behind post-impressionism: \n",
    "        1)EMOTIONAL SYMBOLISM \n",
    "        2)EVOCATIVE COLOR \n",
    "        3)DISTINCTIVE BRUSHSTROKES \n",
    "        4)POINTILLISM \n",
    "        5)JAPONISME \n",
    "        6)PRIMITIVISM \n",
    "        7)UNNATURAL USE OF LIGHT\n",
    "    \n",
    "Points 1, 5 and 6 are representing the characteristics of the subject matter for post-impressionst art. Points 2,3,4 and 7 however distinctly reference what is actually on the easel (est: molbert). So we will be implementing functions that can bring out these properties. \n",
    "    \n",
    "EVOCATIVE COLOR: \n",
    "    We will be analizing the color palette to determine, how the unnatural use of color can determine whether or not a painting is a part of the post-impressionistic movement\n",
    "    \n",
    "DISTINCTIVE BRUSHSTROKES: \\\n",
    "    We will be analizing sharp contrasts of color in small distances. This should be an indication, that colors are not gradually blended and mixed, but the brushstrokes are visible and can be detected by a computer\n",
    "    \n",
    "POINTILLISM: \\\n",
    "    This is a lot like finding the distinctive brushstrokes, but here we will be looking at the painting in a smaller scale \n",
    "    \n",
    "UNNATURAL USE OF LIGHT: \\\n",
    "    Like with the color scheme of the paintings, we will be looking for sharp contrasts, but here we are taking into account the lightness or darkness, which again, are not gradually blending, but strongly contradict oneanother"
   ]
  },
  {
   "cell_type": "code",
   "execution_count": null,
   "metadata": {},
   "outputs": [],
   "source": [
    "from math import sqrt \n",
    "    \n",
    "#see funktsioon otsib üles keskmise värvi, aga võtab iga rgb osa ruutu ja siis l õpus leiab ruutjuure\n",
    "#this function finds the \"average color\" of the square\n",
    "def color_sq(image):\n",
    "    average_colors_sq = []\n",
    "    for i in range(len(image)):\n",
    "        r = 0\n",
    "        g = 0\n",
    "        b = 0\n",
    "        for j in range(len(image[i])):\n",
    "            try:\n",
    "                r += int(image[i][j][0])*int(image[i][j][0])\n",
    "                g += int(image[i][j][1])*int(image[i][j][1])\n",
    "                b += int(image[i][j][2])*int(image[i][j][2])\n",
    "            except:\n",
    "                return \"dull\"\n",
    "        r = round(sqrt(r/len(image[i][j])))\n",
    "        g = round(sqrt(g/len(image[i][j])))\n",
    "        b = round(sqrt(b/len(image[i][j])))\n",
    "        average_colors_sq.append((r+g+b)/3)\n",
    "    average_color=0\n",
    "    for rgb in average_colors_sq:\n",
    "        average_color += rgb\n",
    "    average_color = average_color/len(average_colors_sq)\n",
    "    if average_color > 128:\n",
    "        return \"colorful\"\n",
    "    elif average_color > 64:\n",
    "        return \"average\"\n",
    "    else:\n",
    "        return \"dull\""
   ]
  },
  {
   "cell_type": "code",
   "execution_count": null,
   "metadata": {},
   "outputs": [],
   "source": [
    "at_data = pd.DataFrame(columns=[\"Bright_light\",\"Bright_med\",\"Bright_dark\", \"Contrast_high\",\"Contrast_medium\",\n",
    "                             \"Contrast_low\", \"Colorsq_light\",\"Colorsq_med\",\"Colorsq_dark\"])\n",
    "i= 0\n",
    "brli = []\n",
    "brmed = []\n",
    "brdr = []\n",
    "cohi = []\n",
    "comed = []\n",
    "colo = []\n",
    "clsqli = []\n",
    "clsqmed = []\n",
    "clsqdr = []\n",
    "while i < ((data.shape)[0]):\n",
    "    print(i)\n",
    "    bright = brightness(data.iloc[:,1][i])\n",
    "    if bright == \"light\":\n",
    "        brli.append(1)\n",
    "        brmed.append(0)\n",
    "        brdr.append(0)\n",
    "    elif bright == \"medium\":\n",
    "        brli.append(0)\n",
    "        brmed.append(1)\n",
    "        brdr.append(0)\n",
    "    else:\n",
    "        brli.append(0)\n",
    "        brmed.append(0)\n",
    "        brdr.append(1)\n",
    "    \n",
    "    con = contrast(rgb2gray(data.iloc[:,1][i]))\n",
    "    if con == \"high\":\n",
    "        cohi.append(1)\n",
    "        comed.append(0)\n",
    "        colo.append(0)\n",
    "    elif con == \"medium\":\n",
    "        cohi.append(0)\n",
    "        comed.append(1)\n",
    "        colo.append(0)\n",
    "    else:\n",
    "        cohi.append(0)\n",
    "        comed.append(0)\n",
    "        colo.append(1)\n",
    "    \n",
    "    colorsq = color_sq(data.iloc[:,1][i])\n",
    "    if colorsq == \"light\":\n",
    "        clsqli.append(1)\n",
    "        clsqmed.append(0)\n",
    "        clsqdr.append(0)\n",
    "    elif colorsq == \"medium\":\n",
    "        clsqli.append(0)\n",
    "        clsqmed.append(1)\n",
    "        clsqdr.append(0)\n",
    "    else:\n",
    "        clsqli.append(0)\n",
    "        clsqmed.append(0)\n",
    "        clsqdr.append(1)\n",
    "        \n",
    "    i+=1\n",
    "\n",
    "at_data[\"Bright_light\"] = brli\n",
    "at_data[\"Bright_med\"] = brmed\n",
    "at_data[\"Bright_dark\"] = brdr\n",
    "at_data[\"Colorsq_light\"] = clsqli\n",
    "at_data[\"Colorsq_med\"] = clsqmed\n",
    "at_data[\"Colorsq_dark\"] = clsqdr\n",
    "at_data[\"Contrast_high\"] = cohi\n",
    "at_data[\"Contrast_medium\"] = comed\n",
    "at_data[\"Contrast_low\"] = colo\n",
    "at_data.head(30)"
   ]
  },
  {
   "cell_type": "code",
   "execution_count": null,
   "metadata": {},
   "outputs": [],
   "source": [
    "alldata = pd.concat([data, at_data], axis=1, sort=False)\n",
    "at_data[\"Contrast_medium\"] = comed\n",
    "alldata.head()"
   ]
  },
  {
   "cell_type": "code",
   "execution_count": null,
   "metadata": {},
   "outputs": [],
   "source": [
    "paintings = alldata.drop(columns=[\"Pixels\"])\n",
    "target = paintings[\"Post-Impressionism\"]\n",
    "data = paintings.drop(columns=[\"Post-Impressionism\"])\n",
    "from sklearn.model_selection import train_test_split\n",
    "from sklearn.metrics import accuracy_score\n",
    "from sklearn.neighbors import KNeighborsClassifier\n",
    "\n",
    "X_train, X_test, y_train, y_test = train_test_split(data,target, train_size = 0.7,random_state=0)\n",
    "y_train=y_train.astype('int')\n",
    "y_test=y_test.astype('int')"
   ]
  },
  {
   "cell_type": "code",
   "execution_count": null,
   "metadata": {},
   "outputs": [],
   "source": [
    "model = KNeighborsClassifier(n_neighbors = 3)\n",
    "model.fit(X_train,y_train)\n",
    "acc = accuracy_score(y_test, model.predict(X_test))\n",
    "acc"
   ]
  },
  {
   "cell_type": "code",
   "execution_count": null,
   "metadata": {},
   "outputs": [],
   "source": [
    "from sklearn.tree import DecisionTreeClassifier\n",
    "from sklearn.ensemble import RandomForestClassifier\n",
    "from sklearn.svm import SVC\n",
    "\n",
    "svm_rbf_1 = SVC(kernel='rbf', gamma='auto').fit(X_train,y_train)\n",
    "acc2 = accuracy_score(y_test, svm_rbf_1.predict(X_test))\n",
    "print(acc2)\n",
    "svm_rbf_2 = SVC(kernel='rbf', gamma='auto').fit(X_train,y_train)\n",
    "acc = accuracy_score(y_test, svm_rbf_2.predict(X_test))\n",
    "print(acc)"
   ]
  },
  {
   "cell_type": "code",
   "execution_count": null,
   "metadata": {},
   "outputs": [],
   "source": [
    "rf_1 = RandomForestClassifier(n_estimators=100,max_depth=4,random_state=0).fit(X_train,y_train)\n",
    "acc = accuracy_score(y_test, rf_1.predict(X_test))\n",
    "print(acc)\n",
    "rf_2 = RandomForestClassifier(n_estimators=100,max_depth=4,random_state=0).fit(X_train,y_train)\n",
    "acc = accuracy_score(y_test, rf_2.predict(X_test))\n",
    "print(acc)"
   ]
  },
  {
   "cell_type": "code",
   "execution_count": null,
   "metadata": {},
   "outputs": [],
   "source": [
    "svm_1 = SVC(kernel='linear').fit(X_train,y_train)\n",
    "acc = accuracy_score(y_test, svm_1.predict(X_test))\n",
    "print(acc)\n",
    "svm_2 = SVC(kernel='linear').fit(X_train,y_train)\n",
    "acc = accuracy_score(y_test, svm_2.predict(X_test))\n",
    "print(acc)"
   ]
  },
  {
   "cell_type": "code",
   "execution_count": null,
   "metadata": {},
   "outputs": [],
   "source": [
    "svm_poly_1 = SVC(kernel='poly',degree=2,gamma='auto').fit(X_train,y_train)\n",
    "acc = accuracy_score(y_test, svm_poly_1.predict(X_test))\n",
    "print(acc)\n",
    "svm_poly_2 = SVC(kernel='poly',degree=2,gamma='auto').fit(X_train,y_train)\n",
    "acc = accuracy_score(y_test, svm_poly_2.predict(X_test))\n",
    "print(acc)"
   ]
  }
 ],
 "metadata": {
  "kernelspec": {
   "display_name": "Python 3",
   "language": "python",
   "name": "python3"
  },
  "language_info": {
   "codemirror_mode": {
    "name": "ipython",
    "version": 3
   },
   "file_extension": ".py",
   "mimetype": "text/x-python",
   "name": "python",
   "nbconvert_exporter": "python",
   "pygments_lexer": "ipython3",
   "version": "3.7.4"
  }
 },
 "nbformat": 4,
 "nbformat_minor": 2
}
