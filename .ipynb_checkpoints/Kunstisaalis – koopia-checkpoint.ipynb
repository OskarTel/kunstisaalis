{
 "cells": [
  {
   "cell_type": "code",
   "execution_count": 1,
   "metadata": {},
   "outputs": [],
   "source": [
    "import numpy as np \n",
    "import pandas as pd\n",
    "import matplotlib.pyplot as plt\n",
    "import skimage.io"
   ]
  },
  {
   "cell_type": "markdown",
   "metadata": {},
   "source": [
    "MAIN MISSION: See if it is possible to accuratly predict in which genre is a painting in, if we compare the pictures in certain ways (E.g. colors, contrasts, light)"
   ]
  },
  {
   "cell_type": "markdown",
   "metadata": {},
   "source": [
    "TODO:\n",
    "Kuidas ekstraheerida piltidest suvalised ruudud? \\\n",
    "Algoritm: \\\n",
    "    Loeme pildi sisse pikslitega\\\n",
    "    Loome ruudu (kui palju?)\\\n",
    "    Valime ruutude kaupa piltidelt pikslite väärtusi\\\n",
    "    Loeme sisse valitud ruudud (mis on nende kontrastid ruudu siseselt ja ruutude vahel, heledus ja tumedus, valguse kasutamine jne)\\\n",
    "\n",
    "Kuidas kasutame Skimage'it?\n",
    "    "
   ]
  },
  {
   "cell_type": "markdown",
   "metadata": {},
   "source": [
    "TODO: Kuidas lugeda sisse erinevat informatsiooni?\\\n",
    "Millist informatsiooni saame erinevatest värviväärtusest? \\\n",
    "Millist informatsiooni annab meile võrdlused ruutude sees ja ruutude vahel?  (Lähikontrast ja üleüldine kontrast?) "
   ]
  },
  {
   "cell_type": "markdown",
   "metadata": {},
   "source": [
    "SKIMAGE!\\\n",
    "\\\n",
    "3D numpy array:\n",
    "  * y coordinate\n",
    "  * x coordinate\n",
    "  * RGB (in this sequence)"
   ]
  },
  {
   "cell_type": "code",
   "execution_count": 2,
   "metadata": {},
   "outputs": [
    {
     "data": {
      "text/html": [
       "<div>\n",
       "<style scoped>\n",
       "    .dataframe tbody tr th:only-of-type {\n",
       "        vertical-align: middle;\n",
       "    }\n",
       "\n",
       "    .dataframe tbody tr th {\n",
       "        vertical-align: top;\n",
       "    }\n",
       "\n",
       "    .dataframe thead th {\n",
       "        text-align: right;\n",
       "    }\n",
       "</style>\n",
       "<table border=\"1\" class=\"dataframe\">\n",
       "  <thead>\n",
       "    <tr style=\"text-align: right;\">\n",
       "      <th></th>\n",
       "      <th>name</th>\n",
       "      <th>genre</th>\n",
       "    </tr>\n",
       "    <tr>\n",
       "      <th>id</th>\n",
       "      <th></th>\n",
       "      <th></th>\n",
       "    </tr>\n",
       "  </thead>\n",
       "  <tbody>\n",
       "    <tr>\n",
       "      <td>8</td>\n",
       "      <td>Vincent van Gogh</td>\n",
       "      <td>Post-Impressionism</td>\n",
       "    </tr>\n",
       "    <tr>\n",
       "      <td>28</td>\n",
       "      <td>Henri Matisse</td>\n",
       "      <td>Impressionism,Post-Impressionism</td>\n",
       "    </tr>\n",
       "    <tr>\n",
       "      <td>33</td>\n",
       "      <td>Henri de Toulouse-Lautrec</td>\n",
       "      <td>Post-Impressionism</td>\n",
       "    </tr>\n",
       "    <tr>\n",
       "      <td>35</td>\n",
       "      <td>Camille Pissarro</td>\n",
       "      <td>Impressionism,Post-Impressionism</td>\n",
       "    </tr>\n",
       "    <tr>\n",
       "      <td>38</td>\n",
       "      <td>Paul Cezanne</td>\n",
       "      <td>Post-Impressionism</td>\n",
       "    </tr>\n",
       "    <tr>\n",
       "      <td>41</td>\n",
       "      <td>Georges Seurat</td>\n",
       "      <td>Post-Impressionism</td>\n",
       "    </tr>\n",
       "    <tr>\n",
       "      <td>46</td>\n",
       "      <td>Paul Gauguin</td>\n",
       "      <td>Symbolism,Post-Impressionism</td>\n",
       "    </tr>\n",
       "  </tbody>\n",
       "</table>\n",
       "</div>"
      ],
      "text/plain": [
       "                         name                             genre\n",
       "id                                                             \n",
       "8            Vincent van Gogh                Post-Impressionism\n",
       "28              Henri Matisse  Impressionism,Post-Impressionism\n",
       "33  Henri de Toulouse-Lautrec                Post-Impressionism\n",
       "35           Camille Pissarro  Impressionism,Post-Impressionism\n",
       "38               Paul Cezanne                Post-Impressionism\n",
       "41             Georges Seurat                Post-Impressionism\n",
       "46               Paul Gauguin      Symbolism,Post-Impressionism"
      ]
     },
     "execution_count": 2,
     "metadata": {},
     "output_type": "execute_result"
    }
   ],
   "source": [
    "artists=pd.read_csv(\"artists.csv\",index_col=[\"id\"])\n",
    "postimp=artists[((artists['genre'].str.contains(\"Post-Impressionism\")==True))]\n",
    "#We'll drop all the unnecessary columns\n",
    "postimp.drop(columns=[\"years\",\"nationality\",\"bio\",\"wikipedia\",\"paintings\"])"
   ]
  },
  {
   "cell_type": "code",
   "execution_count": 3,
   "metadata": {},
   "outputs": [
    {
     "data": {
      "text/plain": [
       "['Gogh',\n",
       " 'Matisse',\n",
       " 'Toulouse-Lautrec',\n",
       " 'Pissarro',\n",
       " 'Cezanne',\n",
       " 'Seurat',\n",
       " 'Gauguin']"
      ]
     },
     "execution_count": 3,
     "metadata": {},
     "output_type": "execute_result"
    }
   ],
   "source": [
    "#reading in all the relevant paintings from the resized \n",
    "#we're using the last name\n",
    "authors=[]\n",
    "for author in postimp.name:\n",
    "    authors.append(author.split(\" \")[-1])\n",
    "authors"
   ]
  },
  {
   "cell_type": "code",
   "execution_count": 4,
   "metadata": {
    "scrolled": true
   },
   "outputs": [
    {
     "name": "stdout",
     "output_type": "stream",
     "text": [
      "3080\n",
      "  Postimp                                          Pixeldata Changed_data  \\\n",
      "0       0  [[[217, 215, 190], [213, 211, 186], [214, 212,...          NaN   \n",
      "1       0  [[162, 173, 189, 198, 200, 199, 198, 199, 207,...          NaN   \n",
      "2       0  [[48, 30, 25, 38, 49, 52, 42, 26, 25, 26, 34, ...          NaN   \n",
      "3       0  [[[151, 162, 156], [138, 149, 143], [112, 123,...          NaN   \n",
      "4       0  [[226, 227, 229, 230, 231, 231, 232, 232, 231,...          NaN   \n",
      "\n",
      "  OriginallyB&W  \n",
      "0           NaN  \n",
      "1           NaN  \n",
      "2           NaN  \n",
      "3           NaN  \n",
      "4           NaN  \n"
     ]
    }
   ],
   "source": [
    "import random\n",
    "import os\n",
    "\n",
    "postimp_paintings=pd.DataFrame(columns=[\"Postimp\",\"Pixeldata\",\"Changed_data\",\"OriginallyB&W\"])\n",
    "for painting in os.listdir(\"paintings\"):\n",
    "    i=random.randint(0,4)\n",
    "    if painting.split(\"_\")[-2] in authors:\n",
    "        new_row = pd.Series(data={\"Postimp\": 1, \"Pixeldata\": skimage.io.imread(fname=\"paintings/\" + painting)})\n",
    "        postimp_paintings=postimp_paintings.append(new_row,ignore_index=True)   \n",
    "        #Add randomly every fifth painting for better training later\n",
    "    elif i == 4:\n",
    "        new_row = pd.Series(data={\"Postimp\": 0, \"Pixeldata\": skimage.io.imread(fname=\"paintings/\" + painting)})\n",
    "        postimp_paintings=postimp_paintings.append(new_row,ignore_index=True)\n",
    "\n",
    "print(len(postimp_paintings))\n",
    "print(postimp_paintings.head())"
   ]
  },
  {
   "cell_type": "code",
   "execution_count": 5,
   "metadata": {},
   "outputs": [
    {
     "name": "stdout",
     "output_type": "stream",
     "text": [
      "0\n",
      "1\n"
     ]
    },
    {
     "ename": "IndexError",
     "evalue": "invalid index to scalar variable.",
     "output_type": "error",
     "traceback": [
      "\u001b[1;31m---------------------------------------------------------------------------\u001b[0m",
      "\u001b[1;31mIndexError\u001b[0m                                Traceback (most recent call last)",
      "\u001b[1;32m<ipython-input-5-a74b2117071c>\u001b[0m in \u001b[0;36m<module>\u001b[1;34m\u001b[0m\n\u001b[0;32m     11\u001b[0m     \u001b[1;32mfor\u001b[0m \u001b[0mi\u001b[0m \u001b[1;32min\u001b[0m \u001b[0mchosen_rows\u001b[0m\u001b[1;33m:\u001b[0m\u001b[1;33m\u001b[0m\u001b[1;33m\u001b[0m\u001b[0m\n\u001b[0;32m     12\u001b[0m         \u001b[0mimage\u001b[0m \u001b[1;33m=\u001b[0m \u001b[0mnp\u001b[0m\u001b[1;33m.\u001b[0m\u001b[0mdelete\u001b[0m\u001b[1;33m(\u001b[0m\u001b[0mimage\u001b[0m\u001b[1;33m,\u001b[0m\u001b[0mi\u001b[0m\u001b[1;33m,\u001b[0m\u001b[1;36m0\u001b[0m\u001b[1;33m)\u001b[0m\u001b[1;33m\u001b[0m\u001b[1;33m\u001b[0m\u001b[0m\n\u001b[1;32m---> 13\u001b[1;33m     \u001b[1;32mif\u001b[0m \u001b[1;32mnot\u001b[0m \u001b[0misinstance\u001b[0m\u001b[1;33m(\u001b[0m\u001b[0mimage\u001b[0m\u001b[1;33m[\u001b[0m\u001b[1;36m0\u001b[0m\u001b[1;33m]\u001b[0m\u001b[1;33m[\u001b[0m\u001b[1;36m0\u001b[0m\u001b[1;33m]\u001b[0m\u001b[1;33m[\u001b[0m\u001b[1;36m0\u001b[0m\u001b[1;33m]\u001b[0m\u001b[1;33m,\u001b[0m\u001b[0mlist\u001b[0m\u001b[1;33m)\u001b[0m\u001b[1;33m:\u001b[0m\u001b[1;33m\u001b[0m\u001b[1;33m\u001b[0m\u001b[0m\n\u001b[0m\u001b[0;32m     14\u001b[0m         \u001b[0mchanged_data\u001b[0m \u001b[1;33m=\u001b[0m \u001b[0mchanged_data\u001b[0m\u001b[1;33m.\u001b[0m\u001b[0mappend\u001b[0m\u001b[1;33m(\u001b[0m\u001b[1;33m{\u001b[0m\u001b[1;34m\"Changed_data\"\u001b[0m\u001b[1;33m:\u001b[0m \u001b[0mimage\u001b[0m\u001b[1;33m,\u001b[0m\u001b[1;34m\"OriginallyB&W\"\u001b[0m\u001b[1;33m:\u001b[0m \u001b[1;36m1\u001b[0m\u001b[1;33m}\u001b[0m\u001b[1;33m,\u001b[0m\u001b[0mignore_index\u001b[0m\u001b[1;33m=\u001b[0m\u001b[1;32mTrue\u001b[0m\u001b[1;33m)\u001b[0m\u001b[1;33m\u001b[0m\u001b[1;33m\u001b[0m\u001b[0m\n\u001b[0;32m     15\u001b[0m     \u001b[1;32melse\u001b[0m\u001b[1;33m:\u001b[0m\u001b[1;33m\u001b[0m\u001b[1;33m\u001b[0m\u001b[0m\n",
      "\u001b[1;31mIndexError\u001b[0m: invalid index to scalar variable."
     ]
    }
   ],
   "source": [
    "changed_data = pd.DataFrame(columns=[\"Changed_data\",\"OriginallyB&W\"])\n",
    "for i in range(len(postimp_paintings[\"Pixeldata\"])):\n",
    "    print(i)\n",
    "    chosen_rows = []\n",
    "    image=np.array(postimp_paintings[\"Pixeldata\"][i]).copy()\n",
    "    while len(chosen_rows)<len(image)/1.3:\n",
    "        row_no= random.randint(0,len(image)-1)\n",
    "        if row_no not in chosen_rows:\n",
    "            chosen_rows.append(row_no)\n",
    "    chosen_rows.sort(reverse=True)\n",
    "    for i in chosen_rows:\n",
    "        image = np.delete(image,i,0)\n",
    "    if not isinstance(image[0][0],list):\n",
    "        changed_data = changed_data.append({\"Changed_data\": image,\"OriginallyB&W\": 1},ignore_index=True)\n",
    "    else:\n",
    "        changed_data = changed_data.append({\"Changed_data\": image,\"OriginallyB&W\": 0},ignore_index=True)\n",
    "postimp_paintings.Changed_data = changed_data[\"Changed_data\"]\n",
    "postimp_paintings[\"OriginallyB&W\"] = changed_data[\"OriginallyB&W\"]\n",
    "postimp_paintings.drop(columns=[\"Pixeldata\"],inplace=True)\n",
    "for data in postimp_paintings.head(10)[\"Changed_data\"]:\n",
    "    skimage.io.imshow(data)\n",
    "    plt.show()"
   ]
  },
  {
   "cell_type": "code",
   "execution_count": null,
   "metadata": {},
   "outputs": [],
   "source": [
    "data = postimp_paintings.copy()\n",
    "data = data.rename(columns={\"Postimp\": \"Post-Impressionism\",\"Changed_data\": \"Pixels\"})\n",
    "\n",
    "#data = pd.DataFrame(columns=[\"Post-Impressionism\",\"Bright_light\",\"Bright_med\",\"Bright_dark\",\n",
    "#                            \"Color_light\",\"Color_med\",\"Color_dark\",\n",
    "#                           \"Colorsq_light\",\"Colorsq_med\",\"Colorsq_dark\",\n",
    "#                           \"Grey_light\",\"Grey_med\",\"Grey_dark\"])\n",
    "data.head()"
   ]
  },
  {
   "cell_type": "markdown",
   "metadata": {},
   "source": [
    "https://www.johndcook.com/blog/2009/08/24/algorithms-convert-color-grayscale/ \\\n",
    "How to turn pictures to grayscale"
   ]
  },
  {
   "cell_type": "code",
   "execution_count": null,
   "metadata": {},
   "outputs": [],
   "source": [
    "def average(rgb):\n",
    "    print(rgb)\n",
    "    return (rgb[0]+rgb[1]+rgb[2])/3\n"
   ]
  },
  {
   "cell_type": "markdown",
   "metadata": {},
   "source": [
    "Why are we using certain functions?\\\n",
    "    https://mymodernmet.com/post-impressionism/\n",
    "    https://drawpaintacademy.com/post-impressionism/\n",
    "    \n",
    "    Main ideas behind post-impressionism: \n",
    "        1)EMOTIONAL SYMBOLISM \n",
    "        2)EVOCATIVE COLOR \n",
    "        3)DISTINCTIVE BRUSHSTROKES \n",
    "        4)POINTILLISM \n",
    "        5)JAPONISME \n",
    "        6)PRIMITIVISM \n",
    "        7)UNNATURAL USE OF LIGHT\n",
    "    \n",
    "Points 1, 5 and 6 are representing the characteristics of the subject matter for post-impressionst art. Points 2,3,4 and 7 however distinctly reference what is actually on the easel (est: molbert). So we will be implementing functions that can bring out these properties. \n",
    "    \n",
    "EVOCATIVE COLOR: \n",
    "    We will be analizing the color palette to determine, how the unnatural use of color can determine whether or not a painting is a part of the post-impressionistic movement\n",
    "    \n",
    "DISTINCTIVE BRUSHSTROKES: \\\n",
    "    We will be analizing sharp contrasts of color in small distances. This should be an indication, that colors are not gradually blended and mixed, but the brushstrokes are visible and can be detected by a computer\n",
    "    \n",
    "POINTILLISM: \\\n",
    "    This is a lot like finding the distinctive brushstrokes, but here we will be looking at the painting in a smaller scale \n",
    "    \n",
    "UNNATURAL USE OF LIGHT: \\\n",
    "    Like with the color scheme of the paintings, we will be looking for sharp contrasts, but here we are taking into account the lightness or darkness, which again, are not gradually blending, but strongly contradict oneanother"
   ]
  },
  {
   "cell_type": "code",
   "execution_count": null,
   "metadata": {},
   "outputs": [],
   "source": [
    "from math import sqrt\n",
    "\n",
    "#data used in each function is a 2D dataframe which describes the values of the squares selected from the paintings\n",
    "def brightness(square):\n",
    "    bright_average = 0\n",
    "    bright_values = []\n",
    "    for n in square:\n",
    "        bright_sum = 0\n",
    "        for rgb in n:\n",
    "            n_len = len(n)\n",
    "            bright_sum += sqrt(0.299 * (rgb[0] * rgb[0]) + 0.587 * (rgb[1] * rgb[1]) + 0.114 * (rgb[2] * rgb[2]))\n",
    "        bright_values.append(round(bright_sum / n_len))\n",
    "    for value in bright_values:\n",
    "        bright_average += value\n",
    "    bright_average=bright_average/len(bright_values)\n",
    "    if bright_average >= 10:\n",
    "        print(\"light\")\n",
    "        print(bright_average)\n",
    "        return 'light'\n",
    "    elif bright_average > 9:\n",
    "        print(\"medium\")\n",
    "        print(bright_average)\n",
    "        return 'medium'\n",
    "    else:\n",
    "        print(\"dark\")\n",
    "        print(bright_average)\n",
    "        return 'dark'\n",
    "\n",
    "def brightness0(r,g,b):\n",
    "    brightness = sqrt(0.299 * (r * r) + 0.587 * (g * g) + 0.114 * (b * b))\n",
    "    if  brightness > 170:\n",
    "        \n",
    "        return 'light'\n",
    "    elif brightness > 60:\n",
    "        return 'medium'\n",
    "    else:\n",
    "        return 'dark'\n",
    "    \n",
    "#see funktsioon otsib üles keskmise värvi, aga võtab iga rgb osa ruutu ja siis lõpus leiab ruutjuure\n",
    "#this function finds the \"average color\" of the square\n",
    "def color_sq(square):\n",
    "    average_colors_sq = []\n",
    "    for n in square:\n",
    "        r = 0\n",
    "        g = 0\n",
    "        b = 0\n",
    "        for rgb in n:\n",
    "            r += rgb[0]*rgb[0]\n",
    "            g += rgb[1]*rgb[1]\n",
    "            b += rgb[2]*rgb[2]\n",
    "        r = round(sqrt(r/len(rgb)))\n",
    "        g = round(sqrt(g/len(rgb)))\n",
    "        b = round(sqrt(b/len(rgb)))\n",
    "        average_colors_sq.append((r,g,b))\n",
    "    r=0\n",
    "    g=0\n",
    "    b=0\n",
    "    for rgb in average_colors_sq:\n",
    "        r += rgb[0]\n",
    "        b += rgb[1]\n",
    "        g += rgb[2]\n",
    "    return brightness0((r/len(average_colors_sq),g/len(average_colors_sq),b/len(average_colors_sq)))\n",
    "\n",
    "#see funktsioon otsib üles keskmise värvi, aga ei võta ruutu\n",
    "def average2(square):\n",
    "    average_colors_sq = []\n",
    "    for n in square:\n",
    "        r = 0\n",
    "        g = 0\n",
    "        b = 0\n",
    "        for rgb in n:\n",
    "            r += rgb[0]\n",
    "            g += rgb[1]\n",
    "            b += rgb[2]\n",
    "        r = round(sqrt(r/len(rgb)))\n",
    "        g = round(sqrt(g/len(rgb)))\n",
    "        b = round(sqrt(b/len(rgb)))\n",
    "        average_colors_sq.append((r,g,b))\n",
    "    r=0\n",
    "    g=0\n",
    "    b=0\n",
    "    for rgb in average_colors_sq:\n",
    "        r += rgb[0]\n",
    "        b += rgb[1]\n",
    "        g += rgb[2]\n",
    "    return brightness0((r/len(average_colors_sq),g/len(average_colors_sq),b/len(average_colors_sq)))\n",
    "\n",
    "#def rgb2gray(square):\n",
    "#    grayscaled_square = []\n",
    "#    for rgb in square:\n",
    "#       grayscaled_row = []\n",
    "#       for n in rgb:\n",
    "#           grayscaled.append((n[0] * 0.2989, n[1] * 0.5870, n[2] * 0.1140))\n",
    "#       grayscaled_square.append(grayscaled_row)\n",
    "#   return brightness(grayscaled)\n",
    "\n"
   ]
  },
  {
   "cell_type": "code",
   "execution_count": null,
   "metadata": {},
   "outputs": [],
   "source": [
    "#Fill out the data dataframe, which we will later use for model training\n",
    "from skimage import io\n",
    "from matplotlib import pyplot as plt\n",
    "image=data.Squaredata[0]\n",
    "#print(image)\n",
    "#for n in range(len(image)):\n",
    "#    for rgb in range(len(image[n])):\n",
    "#        image[n][rgb]=average(image[n][rgb]\n",
    "image=pd.Series(image)\n",
    "print(image)\n",
    "image=image.astype(np.uint8)\n",
    "#print(data.Squaredata[0])\n",
    "io.imshow(image)\n",
    "plt.show()\n",
    "\n",
    "\n",
    "\n",
    "#df['c'] = df.apply(lambda row: row.a + row.b, axis=1)"
   ]
  },
  {
   "cell_type": "code",
   "execution_count": null,
   "metadata": {},
   "outputs": [],
   "source": []
  }
 ],
 "metadata": {
  "kernelspec": {
   "display_name": "Python 3",
   "language": "python",
   "name": "python3"
  },
  "language_info": {
   "codemirror_mode": {
    "name": "ipython",
    "version": 3
   },
   "file_extension": ".py",
   "mimetype": "text/x-python",
   "name": "python",
   "nbconvert_exporter": "python",
   "pygments_lexer": "ipython3",
   "version": "3.7.4"
  }
 },
 "nbformat": 4,
 "nbformat_minor": 2
}
