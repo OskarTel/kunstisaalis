{
 "cells": [
  {
   "cell_type": "code",
   "execution_count": 5,
   "metadata": {},
   "outputs": [],
   "source": [
    "import numpy as np \n",
    "import pandas as pd\n",
    "import matplotlib.pyplot as plt\n",
    "import skimage.io"
   ]
  },
  {
   "cell_type": "markdown",
   "metadata": {},
   "source": [
    "MAIN MISSION: See if it is possible to accuratly predict in which genre is a painting in, if we compare the pictures in certain ways (E.g. colors, contrasts, light)"
   ]
  },
  {
   "cell_type": "markdown",
   "metadata": {},
   "source": [
    "TODO:\n",
    "Kuidas ekstraheerida piltidest suvalised ruudud? \\\n",
    "Algoritm: \\\n",
    "    Loeme pildi sisse pikslitega\\\n",
    "    Loome ruudu (kui palju?)\\\n",
    "    Valime ruutude kaupa piltidelt pikslite väärtusi\\\n",
    "    Loeme sisse valitud ruudud (mis on nende kontrastid ruudu siseselt ja ruutude vahel, heledus ja tumedus, valguse kasutamine jne)\\\n",
    "\n",
    "Kuidas kasutame Skimage'it?\n",
    "    "
   ]
  },
  {
   "cell_type": "markdown",
   "metadata": {},
   "source": [
    "TODO: Kuidas lugeda sisse erinevat informatsiooni?\\\n",
    "Millist informatsiooni saame erinevatest värviväärtusest? \\\n",
    "Millist informatsiooni annab meile võrdlused ruutude sees ja ruutude vahel?  (Lähikontrast ja üleüldine kontrast?) "
   ]
  },
  {
   "cell_type": "markdown",
   "metadata": {},
   "source": [
    "SKIMAGE!\\\n",
    "\\\n",
    "3D numpy array:\n",
    "  * y coordinate\n",
    "  * x coordinate\n",
    "  * RGB (in this sequence)"
   ]
  },
  {
   "cell_type": "code",
   "execution_count": 17,
   "metadata": {},
   "outputs": [],
   "source": [
    "artists=pd.read_csv(\"artists.csv\",index_col=[\"id\"])"
   ]
  },
  {
   "cell_type": "code",
   "execution_count": null,
   "metadata": {},
   "outputs": [],
   "source": []
  }
 ],
 "metadata": {
  "kernelspec": {
   "display_name": "Python 3",
   "language": "python",
   "name": "python3"
  },
  "language_info": {
   "codemirror_mode": {
    "name": "ipython",
    "version": 3
   },
   "file_extension": ".py",
   "mimetype": "text/x-python",
   "name": "python",
   "nbconvert_exporter": "python",
   "pygments_lexer": "ipython3",
   "version": "3.7.4"
  }
 },
 "nbformat": 4,
 "nbformat_minor": 2
}
