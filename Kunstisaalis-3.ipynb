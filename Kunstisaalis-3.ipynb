{
 "cells": [
  {
   "cell_type": "code",
   "execution_count": 1,
   "metadata": {},
   "outputs": [],
   "source": [
    "import numpy as np \n",
    "import pandas as pd\n",
    "import matplotlib.pyplot as plt\n",
    "import skimage.io"
   ]
  },
  {
   "cell_type": "markdown",
   "metadata": {},
   "source": [
    "MAIN MISSION: See if it is possible to accuratly predict in which genre is a painting in, if we compare the pictures in certain ways (E.g. colors, contrasts, light)"
   ]
  },
  {
   "cell_type": "markdown",
   "metadata": {},
   "source": [
    "TODO:\n",
    "Kuidas ekstraheerida piltidest suvalised ruudud? \\\n",
    "Algoritm: \\\n",
    "    Loeme pildi sisse pikslitega\\\n",
    "    Loome ruudu (kui palju?)\\\n",
    "    Valime ruutude kaupa piltidelt pikslite väärtusi\\\n",
    "    Loeme sisse valitud ruudud (mis on nende kontrastid ruudu siseselt ja ruutude vahel, heledus ja tumedus, valguse kasutamine jne)\\\n",
    "\n",
    "Kuidas kasutame Skimage'it?\n",
    "    "
   ]
  },
  {
   "cell_type": "markdown",
   "metadata": {},
   "source": [
    "TODO: Kuidas lugeda sisse erinevat informatsiooni?\\\n",
    "Millist informatsiooni saame erinevatest värviväärtusest? \\\n",
    "Millist informatsiooni annab meile võrdlused ruutude sees ja ruutude vahel?  (Lähikontrast ja üleüldine kontrast?) "
   ]
  },
  {
   "cell_type": "markdown",
   "metadata": {},
   "source": [
    "SKIMAGE!\\\n",
    "\\\n",
    "3D numpy array:\n",
    "  * y coordinate\n",
    "  * x coordinate\n",
    "  * RGB (in this sequence)"
   ]
  },
  {
   "cell_type": "code",
   "execution_count": 2,
   "metadata": {},
   "outputs": [
    {
     "data": {
      "text/html": [
       "<div>\n",
       "<style scoped>\n",
       "    .dataframe tbody tr th:only-of-type {\n",
       "        vertical-align: middle;\n",
       "    }\n",
       "\n",
       "    .dataframe tbody tr th {\n",
       "        vertical-align: top;\n",
       "    }\n",
       "\n",
       "    .dataframe thead th {\n",
       "        text-align: right;\n",
       "    }\n",
       "</style>\n",
       "<table border=\"1\" class=\"dataframe\">\n",
       "  <thead>\n",
       "    <tr style=\"text-align: right;\">\n",
       "      <th></th>\n",
       "      <th>name</th>\n",
       "      <th>genre</th>\n",
       "    </tr>\n",
       "    <tr>\n",
       "      <th>id</th>\n",
       "      <th></th>\n",
       "      <th></th>\n",
       "    </tr>\n",
       "  </thead>\n",
       "  <tbody>\n",
       "    <tr>\n",
       "      <td>8</td>\n",
       "      <td>Vincent van Gogh</td>\n",
       "      <td>Post-Impressionism</td>\n",
       "    </tr>\n",
       "    <tr>\n",
       "      <td>28</td>\n",
       "      <td>Henri Matisse</td>\n",
       "      <td>Impressionism,Post-Impressionism</td>\n",
       "    </tr>\n",
       "    <tr>\n",
       "      <td>33</td>\n",
       "      <td>Henri de Toulouse-Lautrec</td>\n",
       "      <td>Post-Impressionism</td>\n",
       "    </tr>\n",
       "    <tr>\n",
       "      <td>35</td>\n",
       "      <td>Camille Pissarro</td>\n",
       "      <td>Impressionism,Post-Impressionism</td>\n",
       "    </tr>\n",
       "    <tr>\n",
       "      <td>38</td>\n",
       "      <td>Paul Cezanne</td>\n",
       "      <td>Post-Impressionism</td>\n",
       "    </tr>\n",
       "    <tr>\n",
       "      <td>41</td>\n",
       "      <td>Georges Seurat</td>\n",
       "      <td>Post-Impressionism</td>\n",
       "    </tr>\n",
       "    <tr>\n",
       "      <td>46</td>\n",
       "      <td>Paul Gauguin</td>\n",
       "      <td>Symbolism,Post-Impressionism</td>\n",
       "    </tr>\n",
       "  </tbody>\n",
       "</table>\n",
       "</div>"
      ],
      "text/plain": [
       "                         name                             genre\n",
       "id                                                             \n",
       "8            Vincent van Gogh                Post-Impressionism\n",
       "28              Henri Matisse  Impressionism,Post-Impressionism\n",
       "33  Henri de Toulouse-Lautrec                Post-Impressionism\n",
       "35           Camille Pissarro  Impressionism,Post-Impressionism\n",
       "38               Paul Cezanne                Post-Impressionism\n",
       "41             Georges Seurat                Post-Impressionism\n",
       "46               Paul Gauguin      Symbolism,Post-Impressionism"
      ]
     },
     "execution_count": 2,
     "metadata": {},
     "output_type": "execute_result"
    }
   ],
   "source": [
    "artists=pd.read_csv(\"artists.csv\",index_col=[\"id\"])\n",
    "postimp=artists[((artists['genre'].str.contains(\"Post-Impressionism\")==True))]\n",
    "#We'll drop all the unnecessary columns\n",
    "postimp.drop(columns=[\"years\",\"nationality\",\"bio\",\"wikipedia\",\"paintings\"])"
   ]
  },
  {
   "cell_type": "code",
   "execution_count": 3,
   "metadata": {},
   "outputs": [
    {
     "data": {
      "text/plain": [
       "['Gogh',\n",
       " 'Matisse',\n",
       " 'Toulouse-Lautrec',\n",
       " 'Pissarro',\n",
       " 'Cezanne',\n",
       " 'Seurat',\n",
       " 'Gauguin']"
      ]
     },
     "execution_count": 3,
     "metadata": {},
     "output_type": "execute_result"
    }
   ],
   "source": [
    "#reading in all the relevant paintings from the resized \n",
    "#we're using the last name\n",
    "authors=[]\n",
    "for author in postimp.name:\n",
    "    authors.append(author.split(\" \")[-1])\n",
    "authors"
   ]
  },
  {
   "cell_type": "code",
   "execution_count": 4,
   "metadata": {},
   "outputs": [
    {
     "name": "stdout",
     "output_type": "stream",
     "text": [
      "3053\n",
      "  Postimp                                          Pixeldata Squaredata\n",
      "0       0  [[199, 201, 202, 195, 184, 181, 194, 209, 204,...        NaN\n",
      "1       0  [[192, 192, 199, 211, 215, 202, 182, 167, 162,...        NaN\n",
      "2       0  [[220, 214, 212, 214, 210, 203, 203, 209, 211,...        NaN\n",
      "3       0  [[239, 239, 241, 245, 247, 247, 243, 239, 236,...        NaN\n",
      "4       0  [[241, 239, 239, 243, 244, 242, 240, 240, 241,...        NaN\n"
     ]
    }
   ],
   "source": [
    "import random\n",
    "import os\n",
    "\n",
    "postimp_paintings=pd.DataFrame(columns=[\"Postimp\",\"Pixeldata\",\"Squaredata\"])\n",
    "for painting in os.listdir(\"paintings\"):\n",
    "    i=random.randint(0,4)\n",
    "    if painting.split(\"_\")[-2] in authors:\n",
    "        new_row = pd.Series(data={\"Postimp\": 1, \"Pixeldata\": skimage.io.imread(fname=\"paintings/\" + painting)})\n",
    "        postimp_paintings=postimp_paintings.append(new_row,ignore_index=True)   \n",
    "        #Add randomly every fifth painting for better training later\n",
    "    elif i == 4:\n",
    "        new_row = pd.Series(data={\"Postimp\": 0, \"Pixeldata\": skimage.io.imread(fname=\"paintings/\" + painting)})\n",
    "        postimp_paintings=postimp_paintings.append(new_row,ignore_index=True)\n",
    "\n",
    "print(len(postimp_paintings))\n",
    "print(postimp_paintings.head())"
   ]
  },
  {
   "cell_type": "code",
   "execution_count": 5,
   "metadata": {},
   "outputs": [],
   "source": [
    "#Jagame pildi gridiks sellepärast, et saaksime adekvaatselt valida küll suvaliselt ruute sellest gridist, aga et need ei korduks. Vot\n",
    "#Märgime ära gridi kordinaatide ühised nimetajad, mille järgi saab pildil navigeerida (nt (0,0), mis on esimene ruut vasakul üleval nurgas)\n",
    "#Kasutame piltide resized versioone, hoida kokku andmete pealt\n",
    "import random\n",
    "squaredata =pd.DataFrame(columns=[\"Squaredata\"])\n",
    "for data in postimp_paintings[\"Pixeldata\"]:\n",
    "    used_squares=[]\n",
    "    while len(used_squares)<25:\n",
    "        y = int(len(data)/20)\n",
    "        x = int(len(data[0])/20)\n",
    "        rand_y=random.randint(0,19)\n",
    "        rand_x=random.randint(0,19)\n",
    "        if (rand_y,rand_x) not in used_squares:\n",
    "            used_squares.append((rand_y,rand_x))\n",
    "            #Now we have the random starting points to the squares which we can use\n",
    "    squares_with_info=[]\n",
    "    for start in used_squares:\n",
    "        for i in range(20):\n",
    "            one_row_of_pixels=[]\n",
    "            for j in range(20):\n",
    "                if not ((start[0]*y+i >= len(data))) | (start[1]*x+j >= len(data[0])):\n",
    "                    try: \n",
    "                        one_row_of_pixels.append(((data[start[0]*y+i][start[1]*x+j][0]),(data[start[0]*y+i][start[1]*x+j][1]),(data[start[0]*y+i][start[1]*x+j][2])))\n",
    "                    except:\n",
    "                        continue\n",
    "            squares_with_info.append(one_row_of_pixels)\n",
    "    if not (squares_with_info == \"nan\") | (squares_with_info[0] == []):\n",
    "        squaredata=squaredata.append({\"Squaredata\": squares_with_info},ignore_index=True)\n",
    "postimp_paintings[\"Squaredata\"] = squaredata\n",
    "postimp_paintings.drop(columns=[\"Pixeldata\"],inplace=True)\n",
    "postimp_paintings.dropna(inplace=True)\n",
    "#since we experience some data loss (some paintings are read in in a different manner), we need to drop the remaining rows with NaN values\n",
    "#squares_with_info is a 2D array, because it's not important for us to know where the square was, but which pixels were in one square\n"
   ]
  },
  {
   "cell_type": "code",
   "execution_count": 6,
   "metadata": {},
   "outputs": [
    {
     "ename": "AttributeError",
     "evalue": "'function' object has no attribute 'rename'",
     "output_type": "error",
     "traceback": [
      "\u001b[1;31m---------------------------------------------------------------------------\u001b[0m",
      "\u001b[1;31mAttributeError\u001b[0m                            Traceback (most recent call last)",
      "\u001b[1;32m<ipython-input-6-3056dc940475>\u001b[0m in \u001b[0;36m<module>\u001b[1;34m\u001b[0m\n\u001b[0;32m      1\u001b[0m \u001b[0mdata\u001b[0m \u001b[1;33m=\u001b[0m \u001b[0mpostimp_paintings\u001b[0m\u001b[1;33m.\u001b[0m\u001b[0mcopy\u001b[0m\u001b[1;33m\u001b[0m\u001b[1;33m\u001b[0m\u001b[0m\n\u001b[1;32m----> 2\u001b[1;33m \u001b[0mdata\u001b[0m\u001b[1;33m.\u001b[0m\u001b[0mrename\u001b[0m\u001b[1;33m(\u001b[0m\u001b[0mcolumns\u001b[0m\u001b[1;33m=\u001b[0m\u001b[1;33m{\u001b[0m\u001b[1;34m\"Postimp\"\u001b[0m\u001b[1;33m:\u001b[0m \u001b[1;34m\"Post-Impressionism\"\u001b[0m\u001b[1;33m}\u001b[0m\u001b[1;33m)\u001b[0m\u001b[1;33m\u001b[0m\u001b[1;33m\u001b[0m\u001b[0m\n\u001b[0m\u001b[0;32m      3\u001b[0m \u001b[1;31m#df['c'] = df.apply(lambda row: row.a + row.b, axis=1)\u001b[0m\u001b[1;33m\u001b[0m\u001b[1;33m\u001b[0m\u001b[1;33m\u001b[0m\u001b[0m\n\u001b[0;32m      4\u001b[0m \u001b[1;31m#data = pd.DataFrame(columns=[\"Post-Impressionism\",\"Bright_light\",\"Bright_med\",\"Bright_dark\",\u001b[0m\u001b[1;33m\u001b[0m\u001b[1;33m\u001b[0m\u001b[1;33m\u001b[0m\u001b[0m\n\u001b[0;32m      5\u001b[0m \u001b[1;31m#                            \"Color_light\",\"Color_med\",\"Color_dark\",\u001b[0m\u001b[1;33m\u001b[0m\u001b[1;33m\u001b[0m\u001b[1;33m\u001b[0m\u001b[0m\n",
      "\u001b[1;31mAttributeError\u001b[0m: 'function' object has no attribute 'rename'"
     ]
    }
   ],
   "source": [
    "data = postimp_paintings.copy\n",
    "data.rename(columns={\"Postimp\": \"Post-Impressionism\"})\n",
    "#df['c'] = df.apply(lambda row: row.a + row.b, axis=1)\n",
    "#data = pd.DataFrame(columns=[\"Post-Impressionism\",\"Bright_light\",\"Bright_med\",\"Bright_dark\",\n",
    "#                            \"Color_light\",\"Color_med\",\"Color_dark\",\n",
    "#                           \"Colorsq_light\",\"Colorsq_med\",\"Colorsq_dark\",\n",
    "#                           \"Grey_light\",\"Grey_med\",\"Grey_dark\"])\n"
   ]
  },
  {
   "cell_type": "code",
   "execution_count": null,
   "metadata": {},
   "outputs": [],
   "source": [
    "from math import sqrt\n",
    "\n",
    "#data used in each function is a 2D dataframe which describes the values of the squares selected from the paintings\n",
    "def brightness(square):\n",
    "    bright_average = 0\n",
    "    bright_values = []\n",
    "    for rgb in square:\n",
    "        brigth_sum = 0\n",
    "        for n in rgb:\n",
    "            bright_sum += math.sqrt(0.299 * (n[0] * n[0]) + 0.587 * (n[1] * n[1]) + 0.114 * (n[2] * n[2]))\n",
    "        bright_values.append(round(bright_sum / len(rgb)))\n",
    "    for value in bright_values:\n",
    "        bright_average += value\n",
    "    bright_average=bright_average/len(bright_values)\n",
    "    if bright_average >= 170:\n",
    "        return 'light'\n",
    "    elif bright_average > 85:\n",
    "        return 'medium'\n",
    "    else:\n",
    "        return 'dark'\n",
    "\n",
    "def brightness0(r,g,b):\n",
    "    brightness = math.sqrt(0.299 * (r * r) + 0.587 * (g * g) + 0.114 * (b * b))\n",
    "    if  brightness > 170:\n",
    "        return 'light'\n",
    "    elif brightness > 85:\n",
    "        return 'medium'\n",
    "    else:\n",
    "        return 'dark'\n",
    "    \n",
    "#see funktsioon otsib üles keskmise värvi, aga võtab iga rgb osa ruutu ja siis lõpus leiab ruutjuure\n",
    "#this function finds the \"average color\" of the square\n",
    "def color_sq(square):\n",
    "    average_colors_sq = []\n",
    "    for rgb in square:\n",
    "        r = 0\n",
    "        g = 0\n",
    "        b = 0\n",
    "        for n in rgb:\n",
    "            r += n[0]*n[0]\n",
    "            g += n[1]*n[1]\n",
    "            b += n[2]*n[2]\n",
    "        r = round(sqrt(r/len(rgb)))\n",
    "        g = round(sqrt(g/len(rgb)))\n",
    "        b = round(sqrt(b/len(rgb)))\n",
    "        average_colors_sq.append((r,g,b))\n",
    "    r=0\n",
    "    g=0\n",
    "    b=0\n",
    "    for rgb in average_colors_sq:\n",
    "        r += rgb[0]\n",
    "        b += rgb[1]\n",
    "        g += rgb[2]\n",
    "    return brightness0((r/len(average_colors_sq),g/len(average_colors_sq),b/len(average_colors_sq)))\n",
    "\n",
    "#see funktsioon otsib üles keskmise värvi, aga ei võta ruutu\n",
    "def color(square):\n",
    "    average_colors_sq = []\n",
    "    for rgb in square:\n",
    "        r = 0\n",
    "        g = 0\n",
    "        b = 0\n",
    "        for n in rgb:\n",
    "            r += n[0]\n",
    "            g += n[1]\n",
    "            b += n[2]\n",
    "        r = round(sqrt(r/len(rgb)))\n",
    "        g = round(sqrt(g/len(rgb)))\n",
    "        b = round(sqrt(b/len(rgb)))\n",
    "        average_colors_sq.append((r,g,b))\n",
    "    r=0\n",
    "    g=0\n",
    "    b=0\n",
    "    for rgb in average_colors_sq:\n",
    "        r += rgb[0]\n",
    "        b += rgb[1]\n",
    "        g += rgb[2]\n",
    "    return brightness0((r/len(average_colors_sq),g/len(average_colors_sq),b/len(average_colors_sq)))\n",
    "\n",
    "def distance(rgb, colors):\n",
    "    for i in range(len(rgb)-1):\n",
    "        distance = round(sqrt(pow((rgb[i][0] - rgb[i+1][0]),2) + pow((rgb[i][1] - rgb[i+1][1]),2) + pow((rgb[i][2] - rgb[i+1][2]),2)))\n",
    "        if distance > 50 and rgb[i] not in colors:\n",
    "            colors.append(rgb[i])\n",
    "            print(colors)\n",
    "    if len(distance(colors, [])) != len(colors):\n",
    "        distance(colors, [])\n",
    "    else:\n",
    "        return colors\n",
    "    \n",
    "            \n",
    "                                  \n",
    "distance([[5,5,5],[111,111,111],[0,0,0],[5,5,5],[111,111,111],[0,0,0],[2,4,333],[110,2,111],[203,0,222]], [])\n",
    "\n",
    "#def rgb2gray(square):\n",
    "#    grayscaled_square = []\n",
    "#    for rgb in square:\n",
    "#       grayscaled_row = []\n",
    "#       for n in rgb:\n",
    "#           grayscaled.append((n[0] * 0.2989, n[1] * 0.5870, n[2] * 0.1140))\n",
    "#       grayscaled_square.append(grayscaled_row)\n",
    "#   return brightness(grayscaled)\n",
    "\n"
   ]
  },
  {
   "cell_type": "code",
   "execution_count": null,
   "metadata": {},
   "outputs": [],
   "source": [
    "#Fill out the data dataframe, which we will later use for model training\n",
    "data\n"
   ]
  },
  {
   "cell_type": "code",
   "execution_count": null,
   "metadata": {},
   "outputs": [],
   "source": []
  }
 ],
 "metadata": {
  "kernelspec": {
   "display_name": "Python 3",
   "language": "python",
   "name": "python3"
  },
  "language_info": {
   "codemirror_mode": {
    "name": "ipython",
    "version": 3
   },
   "file_extension": ".py",
   "mimetype": "text/x-python",
   "name": "python",
   "nbconvert_exporter": "python",
   "pygments_lexer": "ipython3",
   "version": "3.7.4"
  }
 },
 "nbformat": 4,
 "nbformat_minor": 2
}
